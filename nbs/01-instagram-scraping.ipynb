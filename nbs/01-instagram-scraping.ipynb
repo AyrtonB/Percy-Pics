{
 "cells": [
  {
   "cell_type": "code",
   "execution_count": 1,
   "metadata": {},
   "outputs": [],
   "source": [
    "# default_exp instagram"
   ]
  },
  {
   "cell_type": "markdown",
   "metadata": {},
   "source": [
    "# Instagram Scraping\n",
    "\n",
    "<br>\n",
    "\n",
    "### Imports"
   ]
  },
  {
   "cell_type": "code",
   "execution_count": 2,
   "metadata": {},
   "outputs": [],
   "source": [
    "#export\n",
    "import json\n",
    "import pandas as pd\n",
    "\n",
    "import instaloader\n",
    "\n",
    "import os\n",
    "import time\n",
    "import dotenv"
   ]
  },
  {
   "cell_type": "markdown",
   "metadata": {},
   "source": [
    "<br>\n",
    "\n",
    "### Loading Environment Variables\n",
    "\n",
    "We need to read in a username and password for instagram, here we've stored them as environment variables"
   ]
  },
  {
   "cell_type": "code",
   "execution_count": 3,
   "metadata": {},
   "outputs": [],
   "source": [
    "_ = dotenv.load_dotenv('../.env')"
   ]
  },
  {
   "cell_type": "markdown",
   "metadata": {},
   "source": [
    "<br>\n",
    "\n",
    "We'll then use these to initialise the instagram loader"
   ]
  },
  {
   "cell_type": "code",
   "execution_count": 4,
   "metadata": {},
   "outputs": [],
   "source": [
    "#export\n",
    "def initialise_loader():\n",
    "    user = os.getenv('INSTA_USER')\n",
    "    password = os.getenv('INSTA_PSWD')\n",
    "    \n",
    "    loader = instaloader.Instaloader()\n",
    "\n",
    "    if (user is not None) and (password is not None):\n",
    "        loader.login(user, password) \n",
    "    \n",
    "    return loader"
   ]
  },
  {
   "cell_type": "code",
   "execution_count": 5,
   "metadata": {},
   "outputs": [
    {
     "data": {
      "text/plain": [
       "<instaloader.instaloader.Instaloader at 0x234151ad448>"
      ]
     },
     "execution_count": 5,
     "metadata": {},
     "output_type": "execute_result"
    }
   ],
   "source": [
    "loader = initialise_loader()\n",
    "\n",
    "loader"
   ]
  },
  {
   "cell_type": "markdown",
   "metadata": {},
   "source": [
    "<br>\n",
    "\n",
    "### Loading Posts\n",
    "\n",
    "We'll start by loading the posts"
   ]
  },
  {
   "cell_type": "code",
   "execution_count": 6,
   "metadata": {},
   "outputs": [],
   "source": [
    "#export\n",
    "def load_profile_posts(loader, profile='percythevizslaadventures'):    \n",
    "    percy_profile = instaloader.Profile.from_username(loader.context, profile)\n",
    "    posts = percy_profile.get_posts()\n",
    "    \n",
    "    return posts"
   ]
  },
  {
   "cell_type": "markdown",
   "metadata": {},
   "source": [
    "<br>\n",
    "\n",
    "We'll load the posts, then extract the first post which will be used to construct our content extractor functions"
   ]
  },
  {
   "cell_type": "code",
   "execution_count": 7,
   "metadata": {},
   "outputs": [
    {
     "name": "stdout",
     "output_type": "stream",
     "text": [
      "Wall time: 13.9 s\n"
     ]
    },
    {
     "data": {
      "text/plain": [
       "<Post B7G5-fiHpCL>"
      ]
     },
     "execution_count": 7,
     "metadata": {},
     "output_type": "execute_result"
    }
   ],
   "source": [
    "%%time\n",
    "\n",
    "posts = load_profile_posts(loader)\n",
    "\n",
    "for post in posts:\n",
    "    pass\n",
    "\n",
    "post"
   ]
  },
  {
   "cell_type": "markdown",
   "metadata": {},
   "source": [
    "<br>\n",
    "\n",
    "### Content Extractors\n",
    "\n",
    "The first content we'll extract is the date of the post"
   ]
  },
  {
   "cell_type": "code",
   "execution_count": 8,
   "metadata": {},
   "outputs": [],
   "source": [
    "#export\n",
    "post_to_date = lambda post: pd.to_datetime(post.date).strftime('%Y-%m-%d %H:%M')"
   ]
  },
  {
   "cell_type": "code",
   "execution_count": 9,
   "metadata": {},
   "outputs": [],
   "source": [
    "post_to_date(post)"
   ]
  },
  {
   "cell_type": "markdown",
   "metadata": {},
   "source": [
    "<br>\n",
    "\n",
    "Next we'll extract the caption"
   ]
  },
  {
   "cell_type": "code",
   "execution_count": 10,
   "metadata": {},
   "outputs": [],
   "source": [
    "#export\n",
    "def post_to_caption(post, remove_hashtags=True):\n",
    "    caption = post.caption\n",
    "    \n",
    "    if caption is None:\n",
    "        return ''\n",
    "\n",
    "    if remove_hashtags == True:\n",
    "        sep = ' #'\n",
    "        hashtag_text = sep + sep.join(post.caption_hashtags)\n",
    "        caption = caption.replace(hashtag_text, '')\n",
    "\n",
    "    return caption"
   ]
  },
  {
   "cell_type": "code",
   "execution_count": 11,
   "metadata": {},
   "outputs": [],
   "source": [
    "post_to_caption(post)"
   ]
  },
  {
   "cell_type": "markdown",
   "metadata": {},
   "source": [
    "<br>\n",
    "\n",
    "And finally we'll extract the media url"
   ]
  },
  {
   "cell_type": "code",
   "execution_count": 12,
   "metadata": {},
   "outputs": [],
   "source": [
    "#export\n",
    "def post_to_media_url(post):\n",
    "    if post.is_video:\n",
    "        url = post.video_url\n",
    "    else:\n",
    "        url = post.url\n",
    "\n",
    "    return url"
   ]
  },
  {
   "cell_type": "code",
   "execution_count": 13,
   "metadata": {},
   "outputs": [],
   "source": [
    "post_to_media_url(post)"
   ]
  },
  {
   "cell_type": "markdown",
   "metadata": {},
   "source": [
    "<br>\n",
    "\n",
    "### Full-Scrape Wrapper\n",
    "\n",
    "Now we need to repeat this for all posts"
   ]
  },
  {
   "cell_type": "code",
   "execution_count": 18,
   "metadata": {},
   "outputs": [],
   "source": [
    "#export\n",
    "def extract_post_content(posts, latest_recorded_post_date=None):\n",
    "    post_content = []\n",
    "\n",
    "    for post in posts:\n",
    "        post_date = post_to_date(post)\n",
    "        \n",
    "        if latest_recorded_post_date is not None:\n",
    "            if pd.to_datetime(post_date) < latest_recorded_post_date:\n",
    "                return post_content\n",
    "        \n",
    "        post_content += [{\n",
    "            'date': post_date,\n",
    "            'caption': post_to_caption(post),\n",
    "            'media_url': post_to_media_url(post)\n",
    "        }]\n",
    "        \n",
    "    return post_content\n",
    "\n",
    "def retrieve_posts(loader, fp):\n",
    "    df_posts = pd.read_csv(fp)\n",
    "    latest_recorded_post_date = pd.to_datetime(df_posts['date'].max())\n",
    "    \n",
    "    posts = load_profile_posts(loader)\n",
    "    \n",
    "    if posts == []:\n",
    "        return df_posts\n",
    "    \n",
    "    post_content = extract_post_content(posts, latest_recorded_post_date)\n",
    "\n",
    "    df_posts = pd.DataFrame(post_content).append(df_posts)\n",
    "    \n",
    "    return df_posts"
   ]
  },
  {
   "cell_type": "code",
   "execution_count": 19,
   "metadata": {},
   "outputs": [
    {
     "name": "stderr",
     "output_type": "stream",
     "text": [
      "JSON Query to api/v1/media/2448978791175956406/info/: 429 Too Many Requests [retrying; skip with ^C]\n",
      "Requests within last 10/11/20/22/30/60 minutes grouped by type:\n",
      "                              other:    3    3    3    3    3    3\n",
      "   472f257a40c653c64c666ce877d59d2b:    3    3    3    3    3    3\n",
      " *                           iphone:    1    1    1    1    1    1\n",
      "Instagram responded with HTTP error \"429 - Too Many Requests\". Please\n",
      "do not run multiple instances of Instaloader in parallel or within\n",
      "short sequence. Also, do not use any Instagram App while Instaloader\n",
      "is running.\n",
      "The request will be retried in 666 seconds, at 02:36.\n",
      "JSON Query to api/v1/media/2448978791175956406/info/: 429 Too Many Requests [retrying; skip with ^C]\n",
      "Requests within last 10/11/20/22/30/60 minutes grouped by type:\n",
      "                              other:    0    0    3    3    3    3\n",
      "   472f257a40c653c64c666ce877d59d2b:    0    0    3    3    3    3\n",
      " *                           iphone:    1    1    2    2    2    2\n",
      "Instagram responded with HTTP error \"429 - Too Many Requests\". Please\n",
      "do not run multiple instances of Instaloader in parallel or within\n",
      "short sequence. Also, do not use any Instagram App while Instaloader\n",
      "is running.\n",
      "The request will be retried in 666 seconds, at 02:47.\n"
     ]
    },
    {
     "name": "stdout",
     "output_type": "stream",
     "text": [
      "added\n"
     ]
    },
    {
     "name": "stderr",
     "output_type": "stream",
     "text": [
      "JSON Query to api/v1/media/2448978791175956406/info/: 429 Too Many Requests Unable to fetch high quality image version of <Post CH8hTw-gie2>.\n"
     ]
    },
    {
     "data": {
      "text/html": [
       "<div>\n",
       "<style scoped>\n",
       "    .dataframe tbody tr th:only-of-type {\n",
       "        vertical-align: middle;\n",
       "    }\n",
       "\n",
       "    .dataframe tbody tr th {\n",
       "        vertical-align: top;\n",
       "    }\n",
       "\n",
       "    .dataframe thead th {\n",
       "        text-align: right;\n",
       "    }\n",
       "</style>\n",
       "<table border=\"1\" class=\"dataframe\">\n",
       "  <thead>\n",
       "    <tr style=\"text-align: right;\">\n",
       "      <th></th>\n",
       "      <th>date</th>\n",
       "      <th>caption</th>\n",
       "      <th>media_url</th>\n",
       "    </tr>\n",
       "  </thead>\n",
       "  <tbody>\n",
       "    <tr>\n",
       "      <th>0</th>\n",
       "      <td>2020-11-23 19:50</td>\n",
       "      <td>Lazy play with squeaky ball while chiilaxing.</td>\n",
       "      <td>https://scontent-lhr8-2.cdninstagram.com/v/t51...</td>\n",
       "    </tr>\n",
       "    <tr>\n",
       "      <th>0</th>\n",
       "      <td>2020-11-23 19:50</td>\n",
       "      <td>Lazy play with squeaky ball while chiilaxing.</td>\n",
       "      <td>https://scontent-lhr8-2.cdninstagram.com/v/t51...</td>\n",
       "    </tr>\n",
       "    <tr>\n",
       "      <th>1</th>\n",
       "      <td>2020-11-13 14:43</td>\n",
       "      <td>Living my best life, playing with pals.\\nTilly...</td>\n",
       "      <td>https://scontent-lht6-1.cdninstagram.com/v/t51...</td>\n",
       "    </tr>\n",
       "    <tr>\n",
       "      <th>2</th>\n",
       "      <td>2020-11-12 17:09</td>\n",
       "      <td>Trio of trouble😁 a brief rest after a good cha...</td>\n",
       "      <td>https://scontent-lht6-1.cdninstagram.com/v/t51...</td>\n",
       "    </tr>\n",
       "    <tr>\n",
       "      <th>3</th>\n",
       "      <td>2020-11-08 18:43</td>\n",
       "      <td>Chilly paddle today</td>\n",
       "      <td>https://scontent-lht6-1.cdninstagram.com/v/t51...</td>\n",
       "    </tr>\n",
       "  </tbody>\n",
       "</table>\n",
       "</div>"
      ],
      "text/plain": [
       "               date                                            caption  \\\n",
       "0  2020-11-23 19:50      Lazy play with squeaky ball while chiilaxing.   \n",
       "0  2020-11-23 19:50      Lazy play with squeaky ball while chiilaxing.   \n",
       "1  2020-11-13 14:43  Living my best life, playing with pals.\\nTilly...   \n",
       "2  2020-11-12 17:09  Trio of trouble😁 a brief rest after a good cha...   \n",
       "3  2020-11-08 18:43                                Chilly paddle today   \n",
       "\n",
       "                                           media_url  \n",
       "0  https://scontent-lhr8-2.cdninstagram.com/v/t51...  \n",
       "0  https://scontent-lhr8-2.cdninstagram.com/v/t51...  \n",
       "1  https://scontent-lht6-1.cdninstagram.com/v/t51...  \n",
       "2  https://scontent-lht6-1.cdninstagram.com/v/t51...  \n",
       "3  https://scontent-lht6-1.cdninstagram.com/v/t51...  "
      ]
     },
     "execution_count": 19,
     "metadata": {},
     "output_type": "execute_result"
    }
   ],
   "source": [
    "df_posts = retrieve_posts(loader, '../data/percy_posts.csv')\n",
    "\n",
    "df_posts.head()"
   ]
  },
  {
   "cell_type": "markdown",
   "metadata": {},
   "source": [
    "<br>\n",
    "\n",
    "Finally we'll save the post records"
   ]
  },
  {
   "cell_type": "code",
   "execution_count": 20,
   "metadata": {},
   "outputs": [],
   "source": [
    "df_posts.to_csv('../data/percy_posts.csv', index=False)"
   ]
  },
  {
   "cell_type": "code",
   "execution_count": null,
   "metadata": {},
   "outputs": [],
   "source": []
  },
  {
   "cell_type": "code",
   "execution_count": 21,
   "metadata": {},
   "outputs": [
    {
     "name": "stdout",
     "output_type": "stream",
     "text": [
      "Converted 01-instagram-scraping.ipynb.\n",
      "Converted 02-whatsapp-integration.ipynb.\n",
      "Converted 03-pipeline.ipynb.\n"
     ]
    }
   ],
   "source": [
    "#hide\n",
    "from nbdev.export import *\n",
    "notebook2script()"
   ]
  }
 ],
 "metadata": {
  "kernelspec": {
   "display_name": "PercyPics",
   "language": "python",
   "name": "percypics"
  },
  "language_info": {
   "codemirror_mode": {
    "name": "ipython",
    "version": 3
   },
   "file_extension": ".py",
   "mimetype": "text/x-python",
   "name": "python",
   "nbconvert_exporter": "python",
   "pygments_lexer": "ipython3",
   "version": "3.7.9"
  }
 },
 "nbformat": 4,
 "nbformat_minor": 4
}
