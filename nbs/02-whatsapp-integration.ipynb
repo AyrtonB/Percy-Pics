{
 "cells": [
  {
   "cell_type": "code",
   "execution_count": 1,
   "metadata": {},
   "outputs": [],
   "source": [
    "# default_exp whatsapp"
   ]
  },
  {
   "cell_type": "markdown",
   "metadata": {},
   "source": [
    "# WhatsApp Integration\n",
    "\n",
    "<br>\n",
    "\n",
    "### Imports"
   ]
  },
  {
   "cell_type": "code",
   "execution_count": 2,
   "metadata": {},
   "outputs": [],
   "source": [
    "#exports\n",
    "import pandas as pd\n",
    "\n",
    "from twilio.rest import Client\n",
    "\n",
    "import os\n",
    "import time\n",
    "import dotenv\n",
    "import logging"
   ]
  },
  {
   "cell_type": "markdown",
   "metadata": {},
   "source": [
    "<br>\n",
    "\n",
    "### Initialisation\n",
    "\n",
    "First we need to load the environment variables"
   ]
  },
  {
   "cell_type": "code",
   "execution_count": 3,
   "metadata": {},
   "outputs": [],
   "source": [
    "_  = dotenv.load_dotenv('../.env')\n",
    "\n",
    "test_mob = os.getenv('TEST_MOB')"
   ]
  },
  {
   "cell_type": "markdown",
   "metadata": {},
   "source": [
    "<br>\n",
    "\n",
    "We'll then use them to initialise the Twilio WhatsApp client"
   ]
  },
  {
   "cell_type": "code",
   "execution_count": 6,
   "metadata": {},
   "outputs": [],
   "source": [
    "#exports\n",
    "from warnings import warn\n",
    "\n",
    "def initialise_client():\n",
    "    account_sid = os.getenv('TWILIO_SID')\n",
    "    auth_token = os.getenv('TWILIO_TOKEN')\n",
    "    raise ValueError(f'{account_sid}, {auth_token}')\n",
    "    if (account_sid is not None) and (auth_token is not None):\n",
    "        client = Client(account_sid, auth_token) \n",
    "    else:\n",
    "        raise ValueError('Client could not be created')\n",
    "        \n",
    "    return client"
   ]
  },
  {
   "cell_type": "code",
   "execution_count": 7,
   "metadata": {},
   "outputs": [],
   "source": [
    "client = initialise_client()"
   ]
  },
  {
   "cell_type": "markdown",
   "metadata": {},
   "source": [
    "<br>\n",
    "\n",
    "### Selecting Post\n",
    "\n",
    "We'll first load the post data and extract a sample"
   ]
  },
  {
   "cell_type": "code",
   "execution_count": 6,
   "metadata": {},
   "outputs": [],
   "source": [
    "#exports\n",
    "get_random_post = lambda fp='../data/percy_posts.csv': pd.read_csv(fp).sample(1).T.iloc[:, 0].to_dict()"
   ]
  },
  {
   "cell_type": "code",
   "execution_count": 7,
   "metadata": {},
   "outputs": [
    {
     "data": {
      "text/plain": [
       "{'date': '2020-02-16 10:24',\n",
       " 'caption': 'I love to play with anyone no matter how big or small! 🐶🐕#vizsla #vizslasofinstagram #vizslagram #vizslapuppy #vizslalife #vizslaobsessed #vizslalover #dogsofinstagram #doglovers #doglife #dogs #dogwalk #dogsofig',\n",
       " 'media_url': 'https://scontent-lhr8-1.cdninstagram.com/v/t51.2885-15/e35/82252692_3178729768846699_5027385599939242017_n.jpg?_nc_ht=scontent-lhr8-1.cdninstagram.com&_nc_cat=107&_nc_ohc=qB7s51oI9ooAX8X2oyg&tp=1&oh=6b95d5a5e28bc170cffe947b0b8c2261&oe=600E3F40&ig_cache_key=MjI0NTAzMTg4ODgxMTEwMjIyNg%3D%3D.2'}"
      ]
     },
     "execution_count": 7,
     "metadata": {},
     "output_type": "execute_result"
    }
   ],
   "source": [
    "post = get_random_post()\n",
    "\n",
    "post"
   ]
  },
  {
   "cell_type": "markdown",
   "metadata": {},
   "source": [
    "<br>\n",
    "\n",
    "### Message Sending\n",
    "\n",
    "We'll now send a message via Twilio.\n",
    "\n",
    "N.b. To enter the Twilio sandbox you must send a WhatsApp message to +1 415 523 8886 with code \"join heading-milk\"."
   ]
  },
  {
   "cell_type": "code",
   "execution_count": 8,
   "metadata": {},
   "outputs": [],
   "source": [
    "#exports\n",
    "def send_post(client, post, wa_recipient):\n",
    "    msg_body = post['caption'] + '\\n\\nDate: ' + post['date']\n",
    "    \n",
    "    message = client.messages.create(\n",
    "        from_='whatsapp:+14155238886',  \n",
    "        body=msg_body,    \n",
    "        to=f'whatsapp:{wa_recipient}',\n",
    "        media_url=post['media_url']\n",
    "    ) \n",
    "    \n",
    "    return message"
   ]
  },
  {
   "cell_type": "code",
   "execution_count": 9,
   "metadata": {},
   "outputs": [],
   "source": [
    "message = send_post(client, post, test_mob)\n",
    "\n",
    "message"
   ]
  },
  {
   "cell_type": "code",
   "execution_count": null,
   "metadata": {},
   "outputs": [],
   "source": []
  },
  {
   "cell_type": "code",
   "execution_count": 10,
   "metadata": {},
   "outputs": [],
   "source": [
    "#exports\n",
    "def check_msg_status(client, message, wa_recipient):\n",
    "    time.sleep(2)\n",
    "    status = client.messages(message.sid).fetch().status\n",
    "\n",
    "    if status not in ['read', 'sent']:\n",
    "        logger = logging.getLogger('dog_bot')\n",
    "        logger.setLevel('INFO')\n",
    "        logger.info(f'The message to {wa_recipient} could not be sent')\n",
    "        \n",
    "    return"
   ]
  },
  {
   "cell_type": "code",
   "execution_count": 11,
   "metadata": {},
   "outputs": [],
   "source": [
    "check_msg_status(client, message, test_mob)"
   ]
  },
  {
   "cell_type": "code",
   "execution_count": null,
   "metadata": {},
   "outputs": [],
   "source": []
  },
  {
   "cell_type": "code",
   "execution_count": 9,
   "metadata": {},
   "outputs": [
    {
     "name": "stdout",
     "output_type": "stream",
     "text": [
      "Converted 01-instagram-scraping.ipynb.\n",
      "Converted 02-whatsapp-integration.ipynb.\n",
      "Converted 03-pipeline.ipynb.\n"
     ]
    }
   ],
   "source": [
    "#hide\n",
    "from nbdev.export import *\n",
    "notebook2script()"
   ]
  },
  {
   "cell_type": "code",
   "execution_count": null,
   "metadata": {},
   "outputs": [],
   "source": []
  }
 ],
 "metadata": {
  "kernelspec": {
   "display_name": "PercyPics",
   "language": "python",
   "name": "percypics"
  },
  "language_info": {
   "codemirror_mode": {
    "name": "ipython",
    "version": 3
   },
   "file_extension": ".py",
   "mimetype": "text/x-python",
   "name": "python",
   "nbconvert_exporter": "python",
   "pygments_lexer": "ipython3",
   "version": "3.7.9"
  }
 },
 "nbformat": 4,
 "nbformat_minor": 4
}
