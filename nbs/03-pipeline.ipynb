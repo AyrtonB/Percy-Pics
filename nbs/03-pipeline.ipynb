{
 "cells": [
  {
   "cell_type": "code",
   "execution_count": 1,
   "metadata": {},
   "outputs": [],
   "source": [
    "# default_exp pipeline"
   ]
  },
  {
   "cell_type": "markdown",
   "metadata": {},
   "source": [
    "<br>\n",
    "\n",
    "### End-to-End Pipeline"
   ]
  },
  {
   "cell_type": "code",
   "execution_count": 2,
   "metadata": {},
   "outputs": [],
   "source": [
    "#exports\n",
    "from percypics import instagram, whatsapp\n",
    "\n",
    "import os\n",
    "import dotenv\n",
    "from typing import Any\n",
    "\n",
    "from dagster import execute_pipeline, pipeline, solid, Field"
   ]
  },
  {
   "cell_type": "code",
   "execution_count": null,
   "metadata": {},
   "outputs": [],
   "source": []
  },
  {
   "cell_type": "code",
   "execution_count": 3,
   "metadata": {},
   "outputs": [],
   "source": [
    "_  = dotenv.load_dotenv('../.env')\n",
    "\n",
    "test_mob = os.getenv('TEST_MOB')"
   ]
  },
  {
   "cell_type": "code",
   "execution_count": null,
   "metadata": {},
   "outputs": [],
   "source": []
  },
  {
   "cell_type": "code",
   "execution_count": 4,
   "metadata": {},
   "outputs": [],
   "source": [
    "#exports\n",
    "@solid()\n",
    "def download_and_save_posts(_, fp: str):\n",
    "    loader = instagram.initialise_loader()\n",
    "    df_posts = instagram.retrieve_posts(loader, fp)\n",
    "    \n",
    "    df_posts.to_csv(fp, index=False)\n",
    "    \n",
    "    return\n",
    "\n",
    "@solid()\n",
    "def send_posts_to_recipients(_, fp: str, num_mobs: int=5):\n",
    "    client = whatsapp.initialise_client()\n",
    "    \n",
    "    wa_recipients = [os.getenv(f'MOB_{mob_num+1}') for mob_num in range(num_mobs)]\n",
    "\n",
    "    for wa_recipient in wa_recipients:\n",
    "        post = whatsapp.get_random_post(fp)\n",
    "        message = whatsapp.send_post(client, post, wa_recipient)\n",
    "        whatsapp.check_msg_status(client, message, wa_recipient)\n",
    "        \n",
    "    return"
   ]
  },
  {
   "cell_type": "code",
   "execution_count": null,
   "metadata": {},
   "outputs": [],
   "source": []
  },
  {
   "cell_type": "code",
   "execution_count": 5,
   "metadata": {},
   "outputs": [],
   "source": [
    "#exports\n",
    "@pipeline\n",
    "def retrieve_and_send_posts_pipeline():\n",
    "    download_and_save_posts()\n",
    "    send_posts_to_recipients()\n",
    "    \n",
    "    return"
   ]
  },
  {
   "cell_type": "code",
   "execution_count": null,
   "metadata": {},
   "outputs": [],
   "source": []
  },
  {
   "cell_type": "code",
   "execution_count": null,
   "metadata": {},
   "outputs": [
    {
     "name": "stderr",
     "output_type": "stream",
     "text": [
      "\u001b[32m2020-12-25 03:18:10\u001b[0m - dagster - \u001b[34mDEBUG\u001b[0m - retrieve_and_send_posts_pipeline - 91f3ba57-f9d6-4839-8b9d-551ecf93abb8 - 15436 - ENGINE_EVENT - Starting initialization of resources [asset_store].\n",
      "\u001b[32m2020-12-25 03:18:10\u001b[0m - dagster - \u001b[34mDEBUG\u001b[0m - retrieve_and_send_posts_pipeline - 91f3ba57-f9d6-4839-8b9d-551ecf93abb8 - 15436 - ENGINE_EVENT - Finished initialization of resources [asset_store].\n",
      "\u001b[32m2020-12-25 03:18:10\u001b[0m - dagster - \u001b[34mDEBUG\u001b[0m - retrieve_and_send_posts_pipeline - 91f3ba57-f9d6-4839-8b9d-551ecf93abb8 - 15436 - PIPELINE_START - Started execution of pipeline \"retrieve_and_send_posts_pipeline\".\n",
      "\u001b[32m2020-12-25 03:18:10\u001b[0m - dagster - \u001b[34mDEBUG\u001b[0m - retrieve_and_send_posts_pipeline - 91f3ba57-f9d6-4839-8b9d-551ecf93abb8 - 15436 - ENGINE_EVENT - Executing steps in process (pid: 15436)\n",
      "\u001b[32m2020-12-25 03:18:10\u001b[0m - dagster - \u001b[34mDEBUG\u001b[0m - retrieve_and_send_posts_pipeline - 91f3ba57-f9d6-4839-8b9d-551ecf93abb8 - 15436 - download_and_save_posts.compute - STEP_START - Started execution of step \"download_and_save_posts.compute\".\n",
      "\u001b[32m2020-12-25 03:18:10\u001b[0m - dagster - \u001b[34mDEBUG\u001b[0m - retrieve_and_send_posts_pipeline - 91f3ba57-f9d6-4839-8b9d-551ecf93abb8 - 15436 - download_and_save_posts.compute - STEP_INPUT - Got input \"fp\" of type \"String\". (Type check passed).\n",
      "JSON Query to api/v1/media/2448978791175956406/info/: 429 Too Many Requests [retrying; skip with ^C]\n",
      "Requests within last 10/11/20/22/30/60 minutes grouped by type:\n",
      "                              other:    1    1    1    1    1    1\n",
      " *                           iphone:    1    1    1    1    1    1\n",
      "Instagram responded with HTTP error \"429 - Too Many Requests\". Please\n",
      "do not run multiple instances of Instaloader in parallel or within\n",
      "short sequence. Also, do not use any Instagram App while Instaloader\n",
      "is running.\n",
      "The request will be retried in 666 seconds, at 03:29.\n"
     ]
    }
   ],
   "source": [
    "run_config = {\n",
    "    'solids': {\n",
    "        'download_and_save_posts': {\n",
    "            'inputs': {\n",
    "                'fp': '../data/percy_posts.csv'\n",
    "            },\n",
    "        },\n",
    "        'send_posts_to_recipients': {\n",
    "            'inputs': {\n",
    "                'fp': '../data/percy_posts.csv',\n",
    "                'num_mobs': 1\n",
    "            },\n",
    "        }\n",
    "    }\n",
    "}\n",
    "\n",
    "execute_pipeline(retrieve_and_send_posts_pipeline, run_config=run_config)"
   ]
  },
  {
   "cell_type": "code",
   "execution_count": null,
   "metadata": {},
   "outputs": [],
   "source": []
  },
  {
   "cell_type": "code",
   "execution_count": null,
   "metadata": {},
   "outputs": [],
   "source": [
    "# This is going to be super slow on GitHub actions\n",
    "# Should only retrieve new posts"
   ]
  }
 ],
 "metadata": {
  "kernelspec": {
   "display_name": "PercyPics",
   "language": "python",
   "name": "percypics"
  },
  "language_info": {
   "codemirror_mode": {
    "name": "ipython",
    "version": 3
   },
   "file_extension": ".py",
   "mimetype": "text/x-python",
   "name": "python",
   "nbconvert_exporter": "python",
   "pygments_lexer": "ipython3",
   "version": "3.7.9"
  }
 },
 "nbformat": 4,
 "nbformat_minor": 4
}
